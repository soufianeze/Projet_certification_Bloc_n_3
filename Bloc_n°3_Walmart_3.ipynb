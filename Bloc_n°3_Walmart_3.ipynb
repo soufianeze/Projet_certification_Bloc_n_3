{
  "nbformat": 4,
  "nbformat_minor": 0,
  "metadata": {
    "colab": {
      "name": "Bloc n°3_Walmart_3.ipynb",
      "provenance": [],
      "collapsed_sections": [],
      "authorship_tag": "ABX9TyM5hLv+yITRCP+P13I3EuuG",
      "include_colab_link": true
    },
    "kernelspec": {
      "name": "python3",
      "display_name": "Python 3"
    },
    "language_info": {
      "name": "python"
    }
  },
  "cells": [
    {
      "cell_type": "markdown",
      "metadata": {
        "id": "view-in-github",
        "colab_type": "text"
      },
      "source": [
        "<a href=\"https://colab.research.google.com/github/soufianeze/Projet_certification_Bloc_n_3/blob/main/Bloc_n%C2%B03_Walmart_3.ipynb\" target=\"_parent\"><img src=\"https://colab.research.google.com/assets/colab-badge.svg\" alt=\"Open In Colab\"/></a>"
      ]
    },
    {
      "cell_type": "code",
      "execution_count": 235,
      "metadata": {
        "id": "vEpuRxOcu1F-"
      },
      "outputs": [],
      "source": [
        "# Importation des bibliothèques necessaires pour le projet\n",
        "\n",
        "import pandas as pd\n",
        "import matplotlib.pyplot as plt\n",
        "import seaborn as sns\n",
        "import numpy as np\n",
        "from sklearn.model_selection import train_test_split\n",
        "from sklearn.preprocessing import MinMaxScaler, StandardScaler, RobustScaler\n",
        "from sklearn import preprocessing\n",
        "from sklearn.metrics import f1_score, confusion_matrix, classification_report\n",
        "from sklearn.metrics import mean_squared_error, r2_score\n",
        "from sklearn import linear_model\n",
        "from sklearn.model_selection import cross_val_predict, cross_val_score, cross_validate\n",
        "from sklearn.model_selection import GridSearchCV\n",
        "from numpy import arange\n",
        "from sklearn.model_selection import RepeatedKFold\n",
        "from sklearn.linear_model import LinearRegression, Ridge, Lasso\n",
        "from sklearn.metrics import mean_absolute_error, r2_score, mean_squared_error\n",
        "from functions import *\n",
        "from sklearn.model_selection import learning_curve\n",
        "import datetime\n",
        "from sklearn.model_selection import train_test_split"
      ]
    },
    {
      "cell_type": "code",
      "source": [
        "# Obtenir le fichier Walmart_Store_sales.csv à partir de mon espace GITHUB\n",
        "! wget = 'https://raw.githubusercontent.com/soufianeze/MachineLearning2/main/Walmart_Store_sales.csv'"
      ],
      "metadata": {
        "colab": {
          "base_uri": "https://localhost:8080/"
        },
        "id": "RFztbZcau7jj",
        "outputId": "b125b48f-1685-4ed0-e854-c4fc052095f3"
      },
      "execution_count": 213,
      "outputs": [
        {
          "output_type": "stream",
          "name": "stdout",
          "text": [
            "--2022-07-18 19:29:49--  http://=/\n",
            "Resolving = (=)... failed: Name or service not known.\n",
            "wget: unable to resolve host address ‘=’\n",
            "--2022-07-18 19:29:49--  https://raw.githubusercontent.com/soufianeze/MachineLearning2/main/Walmart_Store_sales.csv\n",
            "Resolving raw.githubusercontent.com (raw.githubusercontent.com)... 185.199.111.133, 185.199.109.133, 185.199.108.133, ...\n",
            "Connecting to raw.githubusercontent.com (raw.githubusercontent.com)|185.199.111.133|:443... connected.\n",
            "HTTP request sent, awaiting response... 200 OK\n",
            "Length: 8749 (8.5K) [text/plain]\n",
            "Saving to: ‘Walmart_Store_sales.csv.25’\n",
            "\n",
            "\r          Walmart_S   0%[                    ]       0  --.-KB/s               \rWalmart_Store_sales 100%[===================>]   8.54K  --.-KB/s    in 0s      \n",
            "\n",
            "2022-07-18 19:29:49 (60.1 MB/s) - ‘Walmart_Store_sales.csv.25’ saved [8749/8749]\n",
            "\n",
            "FINISHED --2022-07-18 19:29:49--\n",
            "Total wall clock time: 0.2s\n",
            "Downloaded: 1 files, 8.5K in 0s (60.1 MB/s)\n"
          ]
        }
      ]
    },
    {
      "cell_type": "code",
      "source": [
        "# Charger le dataset et afficher les 50 premières lignes\n",
        "df = pd.read_csv('Walmart_Store_sales.csv', sep = ',')\n",
        "df.head(5)"
      ],
      "metadata": {
        "colab": {
          "base_uri": "https://localhost:8080/",
          "height": 206
        },
        "id": "9dXJewO0u-h8",
        "outputId": "6a9aa6f6-900b-4946-d36e-effaae31d144"
      },
      "execution_count": 214,
      "outputs": [
        {
          "output_type": "execute_result",
          "data": {
            "text/plain": [
              "   Store        Date  Weekly_Sales  Holiday_Flag  Temperature  Fuel_Price  \\\n",
              "0    6.0  18-02-2011    1572117.54           NaN        59.61       3.045   \n",
              "1   13.0  25-03-2011    1807545.43           0.0        42.38       3.435   \n",
              "2   17.0  27-07-2012           NaN           0.0          NaN         NaN   \n",
              "3   11.0         NaN    1244390.03           0.0        84.57         NaN   \n",
              "4    6.0  28-05-2010    1644470.66           0.0        78.89       2.759   \n",
              "\n",
              "          CPI  Unemployment  \n",
              "0  214.777523         6.858  \n",
              "1  128.616064         7.470  \n",
              "2  130.719581         5.936  \n",
              "3  214.556497         7.346  \n",
              "4  212.412888         7.092  "
            ],
            "text/html": [
              "\n",
              "  <div id=\"df-553558d9-0cc6-4fc9-8b62-4402049484f1\">\n",
              "    <div class=\"colab-df-container\">\n",
              "      <div>\n",
              "<style scoped>\n",
              "    .dataframe tbody tr th:only-of-type {\n",
              "        vertical-align: middle;\n",
              "    }\n",
              "\n",
              "    .dataframe tbody tr th {\n",
              "        vertical-align: top;\n",
              "    }\n",
              "\n",
              "    .dataframe thead th {\n",
              "        text-align: right;\n",
              "    }\n",
              "</style>\n",
              "<table border=\"1\" class=\"dataframe\">\n",
              "  <thead>\n",
              "    <tr style=\"text-align: right;\">\n",
              "      <th></th>\n",
              "      <th>Store</th>\n",
              "      <th>Date</th>\n",
              "      <th>Weekly_Sales</th>\n",
              "      <th>Holiday_Flag</th>\n",
              "      <th>Temperature</th>\n",
              "      <th>Fuel_Price</th>\n",
              "      <th>CPI</th>\n",
              "      <th>Unemployment</th>\n",
              "    </tr>\n",
              "  </thead>\n",
              "  <tbody>\n",
              "    <tr>\n",
              "      <th>0</th>\n",
              "      <td>6.0</td>\n",
              "      <td>18-02-2011</td>\n",
              "      <td>1572117.54</td>\n",
              "      <td>NaN</td>\n",
              "      <td>59.61</td>\n",
              "      <td>3.045</td>\n",
              "      <td>214.777523</td>\n",
              "      <td>6.858</td>\n",
              "    </tr>\n",
              "    <tr>\n",
              "      <th>1</th>\n",
              "      <td>13.0</td>\n",
              "      <td>25-03-2011</td>\n",
              "      <td>1807545.43</td>\n",
              "      <td>0.0</td>\n",
              "      <td>42.38</td>\n",
              "      <td>3.435</td>\n",
              "      <td>128.616064</td>\n",
              "      <td>7.470</td>\n",
              "    </tr>\n",
              "    <tr>\n",
              "      <th>2</th>\n",
              "      <td>17.0</td>\n",
              "      <td>27-07-2012</td>\n",
              "      <td>NaN</td>\n",
              "      <td>0.0</td>\n",
              "      <td>NaN</td>\n",
              "      <td>NaN</td>\n",
              "      <td>130.719581</td>\n",
              "      <td>5.936</td>\n",
              "    </tr>\n",
              "    <tr>\n",
              "      <th>3</th>\n",
              "      <td>11.0</td>\n",
              "      <td>NaN</td>\n",
              "      <td>1244390.03</td>\n",
              "      <td>0.0</td>\n",
              "      <td>84.57</td>\n",
              "      <td>NaN</td>\n",
              "      <td>214.556497</td>\n",
              "      <td>7.346</td>\n",
              "    </tr>\n",
              "    <tr>\n",
              "      <th>4</th>\n",
              "      <td>6.0</td>\n",
              "      <td>28-05-2010</td>\n",
              "      <td>1644470.66</td>\n",
              "      <td>0.0</td>\n",
              "      <td>78.89</td>\n",
              "      <td>2.759</td>\n",
              "      <td>212.412888</td>\n",
              "      <td>7.092</td>\n",
              "    </tr>\n",
              "  </tbody>\n",
              "</table>\n",
              "</div>\n",
              "      <button class=\"colab-df-convert\" onclick=\"convertToInteractive('df-553558d9-0cc6-4fc9-8b62-4402049484f1')\"\n",
              "              title=\"Convert this dataframe to an interactive table.\"\n",
              "              style=\"display:none;\">\n",
              "        \n",
              "  <svg xmlns=\"http://www.w3.org/2000/svg\" height=\"24px\"viewBox=\"0 0 24 24\"\n",
              "       width=\"24px\">\n",
              "    <path d=\"M0 0h24v24H0V0z\" fill=\"none\"/>\n",
              "    <path d=\"M18.56 5.44l.94 2.06.94-2.06 2.06-.94-2.06-.94-.94-2.06-.94 2.06-2.06.94zm-11 1L8.5 8.5l.94-2.06 2.06-.94-2.06-.94L8.5 2.5l-.94 2.06-2.06.94zm10 10l.94 2.06.94-2.06 2.06-.94-2.06-.94-.94-2.06-.94 2.06-2.06.94z\"/><path d=\"M17.41 7.96l-1.37-1.37c-.4-.4-.92-.59-1.43-.59-.52 0-1.04.2-1.43.59L10.3 9.45l-7.72 7.72c-.78.78-.78 2.05 0 2.83L4 21.41c.39.39.9.59 1.41.59.51 0 1.02-.2 1.41-.59l7.78-7.78 2.81-2.81c.8-.78.8-2.07 0-2.86zM5.41 20L4 18.59l7.72-7.72 1.47 1.35L5.41 20z\"/>\n",
              "  </svg>\n",
              "      </button>\n",
              "      \n",
              "  <style>\n",
              "    .colab-df-container {\n",
              "      display:flex;\n",
              "      flex-wrap:wrap;\n",
              "      gap: 12px;\n",
              "    }\n",
              "\n",
              "    .colab-df-convert {\n",
              "      background-color: #E8F0FE;\n",
              "      border: none;\n",
              "      border-radius: 50%;\n",
              "      cursor: pointer;\n",
              "      display: none;\n",
              "      fill: #1967D2;\n",
              "      height: 32px;\n",
              "      padding: 0 0 0 0;\n",
              "      width: 32px;\n",
              "    }\n",
              "\n",
              "    .colab-df-convert:hover {\n",
              "      background-color: #E2EBFA;\n",
              "      box-shadow: 0px 1px 2px rgba(60, 64, 67, 0.3), 0px 1px 3px 1px rgba(60, 64, 67, 0.15);\n",
              "      fill: #174EA6;\n",
              "    }\n",
              "\n",
              "    [theme=dark] .colab-df-convert {\n",
              "      background-color: #3B4455;\n",
              "      fill: #D2E3FC;\n",
              "    }\n",
              "\n",
              "    [theme=dark] .colab-df-convert:hover {\n",
              "      background-color: #434B5C;\n",
              "      box-shadow: 0px 1px 3px 1px rgba(0, 0, 0, 0.15);\n",
              "      filter: drop-shadow(0px 1px 2px rgba(0, 0, 0, 0.3));\n",
              "      fill: #FFFFFF;\n",
              "    }\n",
              "  </style>\n",
              "\n",
              "      <script>\n",
              "        const buttonEl =\n",
              "          document.querySelector('#df-553558d9-0cc6-4fc9-8b62-4402049484f1 button.colab-df-convert');\n",
              "        buttonEl.style.display =\n",
              "          google.colab.kernel.accessAllowed ? 'block' : 'none';\n",
              "\n",
              "        async function convertToInteractive(key) {\n",
              "          const element = document.querySelector('#df-553558d9-0cc6-4fc9-8b62-4402049484f1');\n",
              "          const dataTable =\n",
              "            await google.colab.kernel.invokeFunction('convertToInteractive',\n",
              "                                                     [key], {});\n",
              "          if (!dataTable) return;\n",
              "\n",
              "          const docLinkHtml = 'Like what you see? Visit the ' +\n",
              "            '<a target=\"_blank\" href=https://colab.research.google.com/notebooks/data_table.ipynb>data table notebook</a>'\n",
              "            + ' to learn more about interactive tables.';\n",
              "          element.innerHTML = '';\n",
              "          dataTable['output_type'] = 'display_data';\n",
              "          await google.colab.output.renderOutput(dataTable, element);\n",
              "          const docLink = document.createElement('div');\n",
              "          docLink.innerHTML = docLinkHtml;\n",
              "          element.appendChild(docLink);\n",
              "        }\n",
              "      </script>\n",
              "    </div>\n",
              "  </div>\n",
              "  "
            ]
          },
          "metadata": {},
          "execution_count": 214
        }
      ]
    },
    {
      "cell_type": "code",
      "source": [
        "original_df = df.copy(deep=True)"
      ],
      "metadata": {
        "id": "DxmU321qwxZa"
      },
      "execution_count": 215,
      "outputs": []
    },
    {
      "cell_type": "markdown",
      "source": [
        "# EDA : Exploratory Data Analysis"
      ],
      "metadata": {
        "id": "foBwR3YwwyaX"
      }
    },
    {
      "cell_type": "code",
      "source": [
        "# Statistiques des variables \n",
        "df.describe()"
      ],
      "metadata": {
        "colab": {
          "base_uri": "https://localhost:8080/",
          "height": 300
        },
        "id": "zIkxntJww61B",
        "outputId": "bb6dbf61-9765-4d99-ed77-4c44006b1576"
      },
      "execution_count": 216,
      "outputs": [
        {
          "output_type": "execute_result",
          "data": {
            "text/plain": [
              "            Store  Weekly_Sales  Holiday_Flag  Temperature  Fuel_Price  \\\n",
              "count  150.000000  1.360000e+02    138.000000   132.000000  136.000000   \n",
              "mean     9.866667  1.249536e+06      0.079710    61.398106    3.320853   \n",
              "std      6.231191  6.474630e+05      0.271831    18.378901    0.478149   \n",
              "min      1.000000  2.689290e+05      0.000000    18.790000    2.514000   \n",
              "25%      4.000000  6.050757e+05      0.000000    45.587500    2.852250   \n",
              "50%      9.000000  1.261424e+06      0.000000    62.985000    3.451000   \n",
              "75%     15.750000  1.806386e+06      0.000000    76.345000    3.706250   \n",
              "max     20.000000  2.771397e+06      1.000000    91.650000    4.193000   \n",
              "\n",
              "              CPI  Unemployment  \n",
              "count  138.000000    135.000000  \n",
              "mean   179.898509      7.598430  \n",
              "std     40.274956      1.577173  \n",
              "min    126.111903      5.143000  \n",
              "25%    131.970831      6.597500  \n",
              "50%    197.908893      7.470000  \n",
              "75%    214.934616      8.150000  \n",
              "max    226.968844     14.313000  "
            ],
            "text/html": [
              "\n",
              "  <div id=\"df-493e66b0-145c-4d67-8b8b-dc7900cb7aae\">\n",
              "    <div class=\"colab-df-container\">\n",
              "      <div>\n",
              "<style scoped>\n",
              "    .dataframe tbody tr th:only-of-type {\n",
              "        vertical-align: middle;\n",
              "    }\n",
              "\n",
              "    .dataframe tbody tr th {\n",
              "        vertical-align: top;\n",
              "    }\n",
              "\n",
              "    .dataframe thead th {\n",
              "        text-align: right;\n",
              "    }\n",
              "</style>\n",
              "<table border=\"1\" class=\"dataframe\">\n",
              "  <thead>\n",
              "    <tr style=\"text-align: right;\">\n",
              "      <th></th>\n",
              "      <th>Store</th>\n",
              "      <th>Weekly_Sales</th>\n",
              "      <th>Holiday_Flag</th>\n",
              "      <th>Temperature</th>\n",
              "      <th>Fuel_Price</th>\n",
              "      <th>CPI</th>\n",
              "      <th>Unemployment</th>\n",
              "    </tr>\n",
              "  </thead>\n",
              "  <tbody>\n",
              "    <tr>\n",
              "      <th>count</th>\n",
              "      <td>150.000000</td>\n",
              "      <td>1.360000e+02</td>\n",
              "      <td>138.000000</td>\n",
              "      <td>132.000000</td>\n",
              "      <td>136.000000</td>\n",
              "      <td>138.000000</td>\n",
              "      <td>135.000000</td>\n",
              "    </tr>\n",
              "    <tr>\n",
              "      <th>mean</th>\n",
              "      <td>9.866667</td>\n",
              "      <td>1.249536e+06</td>\n",
              "      <td>0.079710</td>\n",
              "      <td>61.398106</td>\n",
              "      <td>3.320853</td>\n",
              "      <td>179.898509</td>\n",
              "      <td>7.598430</td>\n",
              "    </tr>\n",
              "    <tr>\n",
              "      <th>std</th>\n",
              "      <td>6.231191</td>\n",
              "      <td>6.474630e+05</td>\n",
              "      <td>0.271831</td>\n",
              "      <td>18.378901</td>\n",
              "      <td>0.478149</td>\n",
              "      <td>40.274956</td>\n",
              "      <td>1.577173</td>\n",
              "    </tr>\n",
              "    <tr>\n",
              "      <th>min</th>\n",
              "      <td>1.000000</td>\n",
              "      <td>2.689290e+05</td>\n",
              "      <td>0.000000</td>\n",
              "      <td>18.790000</td>\n",
              "      <td>2.514000</td>\n",
              "      <td>126.111903</td>\n",
              "      <td>5.143000</td>\n",
              "    </tr>\n",
              "    <tr>\n",
              "      <th>25%</th>\n",
              "      <td>4.000000</td>\n",
              "      <td>6.050757e+05</td>\n",
              "      <td>0.000000</td>\n",
              "      <td>45.587500</td>\n",
              "      <td>2.852250</td>\n",
              "      <td>131.970831</td>\n",
              "      <td>6.597500</td>\n",
              "    </tr>\n",
              "    <tr>\n",
              "      <th>50%</th>\n",
              "      <td>9.000000</td>\n",
              "      <td>1.261424e+06</td>\n",
              "      <td>0.000000</td>\n",
              "      <td>62.985000</td>\n",
              "      <td>3.451000</td>\n",
              "      <td>197.908893</td>\n",
              "      <td>7.470000</td>\n",
              "    </tr>\n",
              "    <tr>\n",
              "      <th>75%</th>\n",
              "      <td>15.750000</td>\n",
              "      <td>1.806386e+06</td>\n",
              "      <td>0.000000</td>\n",
              "      <td>76.345000</td>\n",
              "      <td>3.706250</td>\n",
              "      <td>214.934616</td>\n",
              "      <td>8.150000</td>\n",
              "    </tr>\n",
              "    <tr>\n",
              "      <th>max</th>\n",
              "      <td>20.000000</td>\n",
              "      <td>2.771397e+06</td>\n",
              "      <td>1.000000</td>\n",
              "      <td>91.650000</td>\n",
              "      <td>4.193000</td>\n",
              "      <td>226.968844</td>\n",
              "      <td>14.313000</td>\n",
              "    </tr>\n",
              "  </tbody>\n",
              "</table>\n",
              "</div>\n",
              "      <button class=\"colab-df-convert\" onclick=\"convertToInteractive('df-493e66b0-145c-4d67-8b8b-dc7900cb7aae')\"\n",
              "              title=\"Convert this dataframe to an interactive table.\"\n",
              "              style=\"display:none;\">\n",
              "        \n",
              "  <svg xmlns=\"http://www.w3.org/2000/svg\" height=\"24px\"viewBox=\"0 0 24 24\"\n",
              "       width=\"24px\">\n",
              "    <path d=\"M0 0h24v24H0V0z\" fill=\"none\"/>\n",
              "    <path d=\"M18.56 5.44l.94 2.06.94-2.06 2.06-.94-2.06-.94-.94-2.06-.94 2.06-2.06.94zm-11 1L8.5 8.5l.94-2.06 2.06-.94-2.06-.94L8.5 2.5l-.94 2.06-2.06.94zm10 10l.94 2.06.94-2.06 2.06-.94-2.06-.94-.94-2.06-.94 2.06-2.06.94z\"/><path d=\"M17.41 7.96l-1.37-1.37c-.4-.4-.92-.59-1.43-.59-.52 0-1.04.2-1.43.59L10.3 9.45l-7.72 7.72c-.78.78-.78 2.05 0 2.83L4 21.41c.39.39.9.59 1.41.59.51 0 1.02-.2 1.41-.59l7.78-7.78 2.81-2.81c.8-.78.8-2.07 0-2.86zM5.41 20L4 18.59l7.72-7.72 1.47 1.35L5.41 20z\"/>\n",
              "  </svg>\n",
              "      </button>\n",
              "      \n",
              "  <style>\n",
              "    .colab-df-container {\n",
              "      display:flex;\n",
              "      flex-wrap:wrap;\n",
              "      gap: 12px;\n",
              "    }\n",
              "\n",
              "    .colab-df-convert {\n",
              "      background-color: #E8F0FE;\n",
              "      border: none;\n",
              "      border-radius: 50%;\n",
              "      cursor: pointer;\n",
              "      display: none;\n",
              "      fill: #1967D2;\n",
              "      height: 32px;\n",
              "      padding: 0 0 0 0;\n",
              "      width: 32px;\n",
              "    }\n",
              "\n",
              "    .colab-df-convert:hover {\n",
              "      background-color: #E2EBFA;\n",
              "      box-shadow: 0px 1px 2px rgba(60, 64, 67, 0.3), 0px 1px 3px 1px rgba(60, 64, 67, 0.15);\n",
              "      fill: #174EA6;\n",
              "    }\n",
              "\n",
              "    [theme=dark] .colab-df-convert {\n",
              "      background-color: #3B4455;\n",
              "      fill: #D2E3FC;\n",
              "    }\n",
              "\n",
              "    [theme=dark] .colab-df-convert:hover {\n",
              "      background-color: #434B5C;\n",
              "      box-shadow: 0px 1px 3px 1px rgba(0, 0, 0, 0.15);\n",
              "      filter: drop-shadow(0px 1px 2px rgba(0, 0, 0, 0.3));\n",
              "      fill: #FFFFFF;\n",
              "    }\n",
              "  </style>\n",
              "\n",
              "      <script>\n",
              "        const buttonEl =\n",
              "          document.querySelector('#df-493e66b0-145c-4d67-8b8b-dc7900cb7aae button.colab-df-convert');\n",
              "        buttonEl.style.display =\n",
              "          google.colab.kernel.accessAllowed ? 'block' : 'none';\n",
              "\n",
              "        async function convertToInteractive(key) {\n",
              "          const element = document.querySelector('#df-493e66b0-145c-4d67-8b8b-dc7900cb7aae');\n",
              "          const dataTable =\n",
              "            await google.colab.kernel.invokeFunction('convertToInteractive',\n",
              "                                                     [key], {});\n",
              "          if (!dataTable) return;\n",
              "\n",
              "          const docLinkHtml = 'Like what you see? Visit the ' +\n",
              "            '<a target=\"_blank\" href=https://colab.research.google.com/notebooks/data_table.ipynb>data table notebook</a>'\n",
              "            + ' to learn more about interactive tables.';\n",
              "          element.innerHTML = '';\n",
              "          dataTable['output_type'] = 'display_data';\n",
              "          await google.colab.output.renderOutput(dataTable, element);\n",
              "          const docLink = document.createElement('div');\n",
              "          docLink.innerHTML = docLinkHtml;\n",
              "          element.appendChild(docLink);\n",
              "        }\n",
              "      </script>\n",
              "    </div>\n",
              "  </div>\n",
              "  "
            ]
          },
          "metadata": {},
          "execution_count": 216
        }
      ]
    },
    {
      "cell_type": "code",
      "source": [
        "# dimension de la dataset\n",
        "df.shape"
      ],
      "metadata": {
        "colab": {
          "base_uri": "https://localhost:8080/"
        },
        "id": "84f39OQYw-rK",
        "outputId": "b99dbc6a-090f-41e1-a791-4628bfb01421"
      },
      "execution_count": 217,
      "outputs": [
        {
          "output_type": "execute_result",
          "data": {
            "text/plain": [
              "(150, 8)"
            ]
          },
          "metadata": {},
          "execution_count": 217
        }
      ]
    },
    {
      "cell_type": "code",
      "source": [
        "# dimension de la dataset\n",
        "df.shape"
      ],
      "metadata": {
        "colab": {
          "base_uri": "https://localhost:8080/"
        },
        "id": "BcCbF_B-YW8U",
        "outputId": "5c4776e0-907f-48ea-c4ea-872b7cb3aeb9"
      },
      "execution_count": 218,
      "outputs": [
        {
          "output_type": "execute_result",
          "data": {
            "text/plain": [
              "(150, 8)"
            ]
          },
          "metadata": {},
          "execution_count": 218
        }
      ]
    },
    {
      "cell_type": "code",
      "source": [
        "# Pourcentage des valeurs manquantes\n",
        "((df.isnull() | df.isna()).sum() * 100 / df.index.size).round(2)"
      ],
      "metadata": {
        "colab": {
          "base_uri": "https://localhost:8080/"
        },
        "id": "93KYJ_vdxL0n",
        "outputId": "c2ccb523-bbf3-46e3-b1e7-af595556177e"
      },
      "execution_count": 219,
      "outputs": [
        {
          "output_type": "execute_result",
          "data": {
            "text/plain": [
              "Store            0.00\n",
              "Date            12.00\n",
              "Weekly_Sales     9.33\n",
              "Holiday_Flag     8.00\n",
              "Temperature     12.00\n",
              "Fuel_Price       9.33\n",
              "CPI              8.00\n",
              "Unemployment    10.00\n",
              "dtype: float64"
            ]
          },
          "metadata": {},
          "execution_count": 219
        }
      ]
    },
    {
      "cell_type": "code",
      "source": [
        "# Type de variables\n",
        "for col in df.columns:\n",
        "  print(f'{col :-<50}  {df[col].dtypes}')"
      ],
      "metadata": {
        "colab": {
          "base_uri": "https://localhost:8080/"
        },
        "id": "NACr_WD5xQnC",
        "outputId": "6f9581ff-73b0-4cef-95ac-b1fc44d173f8"
      },
      "execution_count": 220,
      "outputs": [
        {
          "output_type": "stream",
          "name": "stdout",
          "text": [
            "Store---------------------------------------------  float64\n",
            "Date----------------------------------------------  object\n",
            "Weekly_Sales--------------------------------------  float64\n",
            "Holiday_Flag--------------------------------------  float64\n",
            "Temperature---------------------------------------  float64\n",
            "Fuel_Price----------------------------------------  float64\n",
            "CPI-----------------------------------------------  float64\n",
            "Unemployment--------------------------------------  float64\n"
          ]
        }
      ]
    },
    {
      "cell_type": "code",
      "source": [
        "# L'emplacement des valurs manquantes\n",
        "plt.figure(figsize=(20,10))\n",
        "sns.heatmap(df.isna(), cbar=False);"
      ],
      "metadata": {
        "colab": {
          "base_uri": "https://localhost:8080/",
          "height": 596
        },
        "id": "AGcWoG5OxWCM",
        "outputId": "3571cb20-1457-4272-9f70-e31aac2791ea"
      },
      "execution_count": 221,
      "outputs": [
        {
          "output_type": "display_data",
          "data": {
            "text/plain": [
              "<Figure size 1440x720 with 1 Axes>"
            ],
            "image/png": "[encoded data removed]"
          },
          "metadata": {
            "needs_background": "light"
          }
        }
      ]
    },
    {
      "cell_type": "code",
      "source": [
        "# Remplacement des valeurs manquates par la median de chaque variable\n",
        "missing_col = ['Weekly_Sales','Holiday_Flag','Temperature','Fuel_Price','CPI','Unemployment']\n",
        "\n",
        "for i in missing_col:\n",
        "  df.loc[df.loc[:,i].isnull(),i]=df.loc[:,i].median()"
      ],
      "metadata": {
        "id": "jJvjKbVDy9NU"
      },
      "execution_count": 222,
      "outputs": []
    },
    {
      "cell_type": "code",
      "source": [
        "# Ventes hebdomadaires par boutique\n",
        "data = pd.concat([df['Store'], df['Weekly_Sales']], axis=1)\n",
        "f, ax = plt.subplots(figsize=(8, 6))\n",
        "fig = sns.boxplot(x='Store', y='Weekly_Sales', data=data, showfliers=False)"
      ],
      "metadata": {
        "colab": {
          "base_uri": "https://localhost:8080/",
          "height": 399
        },
        "id": "2aVQ611exi0d",
        "outputId": "9b390852-dd4c-4c81-89f3-a6f8f7dc7225"
      },
      "execution_count": 223,
      "outputs": [
        {
          "output_type": "display_data",
          "data": {
            "text/plain": [
              "<Figure size 576x432 with 1 Axes>"
            ],
            "image/png": "[encoded data removed]"
          },
          "metadata": {
            "needs_background": "light"
          }
        }
      ]
    },
    {
      "cell_type": "markdown",
      "source": [
        "On constate que le nombre des ventes hebdomadaires est très important chez les boutiques 20, 13, 14, 4 2"
      ],
      "metadata": {
        "id": "xXb2nxtdxnf6"
      }
    },
    {
      "cell_type": "code",
      "source": [
        "# Graphiques des ventes hebdomadaires par rapport aux Fuel_Price, CPI, Unemployment, Temperature\n",
        "scatter(df, 'Fuel_Price')\n",
        "scatter(df, 'CPI')\n",
        "scatter(df, 'Unemployment')\n",
        "scatter(df, 'Temperature')\n"
      ],
      "metadata": {
        "colab": {
          "base_uri": "https://localhost:8080/",
          "height": 1000
        },
        "id": "WFj8EtZLx9aN",
        "outputId": "c0cf51c6-219d-4d68-c2d4-1b8da56db477"
      },
      "execution_count": 224,
      "outputs": [
        {
          "output_type": "display_data",
          "data": {
            "text/plain": [
              "<Figure size 432x288 with 1 Axes>"
            ],
            "image/png": "[encoded data removed]"
          },
          "metadata": {
            "needs_background": "light"
          }
        },
        {
          "output_type": "display_data",
          "data": {
            "text/plain": [
              "<Figure size 432x288 with 1 Axes>"
            ],
            "image/png": "[encoded data removed]"
          },
          "metadata": {
            "needs_background": "light"
          }
        },
        {
          "output_type": "display_data",
          "data": {
            "text/plain": [
              "<Figure size 432x288 with 1 Axes>"
            ],
            "image/png": "[encoded data removed]"
          },
          "metadata": {
            "needs_background": "light"
          }
        },
        {
          "output_type": "display_data",
          "data": {
            "text/plain": [
              "<Figure size 432x288 with 1 Axes>"
            ],
            "image/png": "[encoded data removed]"
          },
          "metadata": {
            "needs_background": "light"
          }
        }
      ]
    },
    {
      "cell_type": "markdown",
      "source": [
        "# Preprocessing"
      ],
      "metadata": {
        "id": "SFcbgFPtyW80"
      }
    },
    {
      "cell_type": "code",
      "source": [
        "# Remplacement des valeurs manquates par la mediam de chaque variable\n",
        "missing_col = ['Weekly_Sales','Holiday_Flag','Temperature','Fuel_Price','CPI','Unemployment']\n",
        "\n",
        "for i in missing_col:\n",
        "  df.loc[df.loc[:,i].isnull(),i]=df.loc[:,i].median()"
      ],
      "metadata": {
        "id": "TSX9cg80yZuC"
      },
      "execution_count": 225,
      "outputs": []
    },
    {
      "cell_type": "code",
      "source": [
        "df.isnull().sum()"
      ],
      "metadata": {
        "colab": {
          "base_uri": "https://localhost:8080/"
        },
        "id": "HDnonIBogNlw",
        "outputId": "914e2385-430d-46d0-f775-bbf770d63786"
      },
      "execution_count": 226,
      "outputs": [
        {
          "output_type": "execute_result",
          "data": {
            "text/plain": [
              "Store            0\n",
              "Date            18\n",
              "Weekly_Sales     0\n",
              "Holiday_Flag     0\n",
              "Temperature      0\n",
              "Fuel_Price       0\n",
              "CPI              0\n",
              "Unemployment     0\n",
              "dtype: int64"
            ]
          },
          "metadata": {},
          "execution_count": 226
        }
      ]
    },
    {
      "cell_type": "code",
      "source": [
        "# Supression des lignes avec des valeurs manquantes\n",
        "df = df.dropna(axis = 0, how = 'any')"
      ],
      "metadata": {
        "id": "R1WoesJSvBsz"
      },
      "execution_count": 227,
      "outputs": []
    },
    {
      "cell_type": "code",
      "source": [
        "# Dimension de la dataset\n",
        "df.shape"
      ],
      "metadata": {
        "colab": {
          "base_uri": "https://localhost:8080/"
        },
        "id": "zA7HjizqkZ_a",
        "outputId": "7795b13b-40c4-49f1-ab64-dab387478b5c"
      },
      "execution_count": 175,
      "outputs": [
        {
          "output_type": "execute_result",
          "data": {
            "text/plain": [
              "(132, 8)"
            ]
          },
          "metadata": {},
          "execution_count": 175
        }
      ]
    },
    {
      "cell_type": "code",
      "source": [
        "# Extraire l'année, le mois et le jour à partir de la date\n",
        "\n",
        "df['year'] = pd.DatetimeIndex(df['Date']).year\n",
        "df['month'] = pd.DatetimeIndex(df['Date']).month\n",
        "df['day'] = pd.DatetimeIndex(df['Date']).day\n",
        "df['dayofweek'] = pd.DatetimeIndex(df['Date']).dayofweek"
      ],
      "metadata": {
        "id": "GLMoZbb1ylN7"
      },
      "execution_count": 228,
      "outputs": []
    },
    {
      "cell_type": "markdown",
      "source": [
        "[ X\n",
        "ˉ\n",
        " −3σ, \n",
        "X\n",
        "ˉ\n",
        " +3σ]."
      ],
      "metadata": {
        "id": "dP3UMbIsyt7i"
      }
    },
    {
      "cell_type": "code",
      "source": [
        "# Borne INF et borne SUP pour chaque variable afin d'éliminer les valeurs aberants \n",
        "\n",
        "BI_Temperature = round(df['Temperature'].mean() - 3*df['Temperature'].std(),2)\n",
        "BS_Temperature =round(df['Temperature'].mean() + 3*df['Temperature'].std(),2)\n",
        "\n",
        "BI_Fuel_Price = round(df['Fuel_Price'].mean() - 3*df['Fuel_Price'].std(),2)\n",
        "BS_Fuel_Price =round(df['Fuel_Price'].mean() + 3*df['Fuel_Price'].std(),2)\n",
        "\n",
        "\n",
        "BI_CPI = round(df['CPI'].mean() - 3*df['CPI'].std(),2)\n",
        "BS_CPI =round(df['CPI'].mean() + 3*df['CPI'].std(),2)\n",
        "\n",
        "\n",
        "BI_Unemployment = round(df['Unemployment'].mean() - 3*df['Unemployment'].std(),2)\n",
        "BS_Unemployment =round(df['Unemployment'].mean() + 3*df['Unemployment'].std(),2)"
      ],
      "metadata": {
        "id": "op5ebYFpyy2N"
      },
      "execution_count": 229,
      "outputs": []
    },
    {
      "cell_type": "code",
      "source": [
        "# Garder les valeurs qui respectent l'interval\n",
        "df[(df['Temperature'] > BI_Temperature) | (df['Temperature'] < BS_Temperature)]\n",
        "df[(df['Fuel_Price'] > BI_Fuel_Price) | (df['Fuel_Price'] < BS_Fuel_Price)]\n",
        "df[(df['CPI'] > BI_CPI) | (df['CPI'] < BS_CPI)]\n",
        "df[(df['Unemployment'] > BI_Unemployment) | (df['Unemployment'] < BS_Unemployment)]"
      ],
      "metadata": {
        "colab": {
          "base_uri": "https://localhost:8080/",
          "height": 424
        },
        "id": "zpFNYVpHy2KE",
        "outputId": "186be3b1-b9b0-42c3-a2dc-f89436a43024"
      },
      "execution_count": 230,
      "outputs": [
        {
          "output_type": "execute_result",
          "data": {
            "text/plain": [
              "     Store        Date  Weekly_Sales  Holiday_Flag  Temperature  Fuel_Price  \\\n",
              "0      6.0  18-02-2011   1572117.540           0.0       59.610       3.045   \n",
              "1     13.0  25-03-2011   1807545.430           0.0       42.380       3.435   \n",
              "2     17.0  27-07-2012   1261423.865           0.0       62.985       3.451   \n",
              "4      6.0  28-05-2010   1644470.660           0.0       78.890       2.759   \n",
              "5      4.0  28-05-2010   1857533.700           0.0       62.985       2.756   \n",
              "..     ...         ...           ...           ...          ...         ...   \n",
              "144    3.0  19-10-2012    424513.080           0.0       73.440       3.594   \n",
              "145   14.0  18-06-2010   2248645.590           0.0       72.620       2.780   \n",
              "147   17.0  11-06-2010    845252.210           0.0       57.140       2.841   \n",
              "148    8.0  12-08-2011    856796.100           0.0       86.050       3.638   \n",
              "149   19.0  20-04-2012   1255087.260           0.0       55.200       4.170   \n",
              "\n",
              "            CPI  Unemployment  year  month  day  dayofweek  \n",
              "0    214.777523         6.858  2011      2   18          4  \n",
              "1    128.616064         7.470  2011      3   25          4  \n",
              "2    130.719581         5.936  2012      7   27          4  \n",
              "4    212.412888         7.092  2010      5   28          4  \n",
              "5    126.160226         7.896  2010      5   28          4  \n",
              "..          ...           ...   ...    ...  ...        ...  \n",
              "144  226.968844         6.034  2012     10   19          4  \n",
              "145  182.442420         8.899  2010      6   18          4  \n",
              "147  126.111903         7.470  2010     11    6          5  \n",
              "148  219.007525         7.470  2011     12    8          3  \n",
              "149  137.923067         8.150  2012      4   20          4  \n",
              "\n",
              "[132 rows x 12 columns]"
            ],
            "text/html": [
              "\n",
              "  <div id=\"df-d3bca569-5976-4e8a-8a43-4e82db60897d\">\n",
              "    <div class=\"colab-df-container\">\n",
              "      <div>\n",
              "<style scoped>\n",
              "    .dataframe tbody tr th:only-of-type {\n",
              "        vertical-align: middle;\n",
              "    }\n",
              "\n",
              "    .dataframe tbody tr th {\n",
              "        vertical-align: top;\n",
              "    }\n",
              "\n",
              "    .dataframe thead th {\n",
              "        text-align: right;\n",
              "    }\n",
              "</style>\n",
              "<table border=\"1\" class=\"dataframe\">\n",
              "  <thead>\n",
              "    <tr style=\"text-align: right;\">\n",
              "      <th></th>\n",
              "      <th>Store</th>\n",
              "      <th>Date</th>\n",
              "      <th>Weekly_Sales</th>\n",
              "      <th>Holiday_Flag</th>\n",
              "      <th>Temperature</th>\n",
              "      <th>Fuel_Price</th>\n",
              "      <th>CPI</th>\n",
              "      <th>Unemployment</th>\n",
              "      <th>year</th>\n",
              "      <th>month</th>\n",
              "      <th>day</th>\n",
              "      <th>dayofweek</th>\n",
              "    </tr>\n",
              "  </thead>\n",
              "  <tbody>\n",
              "    <tr>\n",
              "      <th>0</th>\n",
              "      <td>6.0</td>\n",
              "      <td>18-02-2011</td>\n",
              "      <td>1572117.540</td>\n",
              "      <td>0.0</td>\n",
              "      <td>59.610</td>\n",
              "      <td>3.045</td>\n",
              "      <td>214.777523</td>\n",
              "      <td>6.858</td>\n",
              "      <td>2011</td>\n",
              "      <td>2</td>\n",
              "      <td>18</td>\n",
              "      <td>4</td>\n",
              "    </tr>\n",
              "    <tr>\n",
              "      <th>1</th>\n",
              "      <td>13.0</td>\n",
              "      <td>25-03-2011</td>\n",
              "      <td>1807545.430</td>\n",
              "      <td>0.0</td>\n",
              "      <td>42.380</td>\n",
              "      <td>3.435</td>\n",
              "      <td>128.616064</td>\n",
              "      <td>7.470</td>\n",
              "      <td>2011</td>\n",
              "      <td>3</td>\n",
              "      <td>25</td>\n",
              "      <td>4</td>\n",
              "    </tr>\n",
              "    <tr>\n",
              "      <th>2</th>\n",
              "      <td>17.0</td>\n",
              "      <td>27-07-2012</td>\n",
              "      <td>1261423.865</td>\n",
              "      <td>0.0</td>\n",
              "      <td>62.985</td>\n",
              "      <td>3.451</td>\n",
              "      <td>130.719581</td>\n",
              "      <td>5.936</td>\n",
              "      <td>2012</td>\n",
              "      <td>7</td>\n",
              "      <td>27</td>\n",
              "      <td>4</td>\n",
              "    </tr>\n",
              "    <tr>\n",
              "      <th>4</th>\n",
              "      <td>6.0</td>\n",
              "      <td>28-05-2010</td>\n",
              "      <td>1644470.660</td>\n",
              "      <td>0.0</td>\n",
              "      <td>78.890</td>\n",
              "      <td>2.759</td>\n",
              "      <td>212.412888</td>\n",
              "      <td>7.092</td>\n",
              "      <td>2010</td>\n",
              "      <td>5</td>\n",
              "      <td>28</td>\n",
              "      <td>4</td>\n",
              "    </tr>\n",
              "    <tr>\n",
              "      <th>5</th>\n",
              "      <td>4.0</td>\n",
              "      <td>28-05-2010</td>\n",
              "      <td>1857533.700</td>\n",
              "      <td>0.0</td>\n",
              "      <td>62.985</td>\n",
              "      <td>2.756</td>\n",
              "      <td>126.160226</td>\n",
              "      <td>7.896</td>\n",
              "      <td>2010</td>\n",
              "      <td>5</td>\n",
              "      <td>28</td>\n",
              "      <td>4</td>\n",
              "    </tr>\n",
              "    <tr>\n",
              "      <th>...</th>\n",
              "      <td>...</td>\n",
              "      <td>...</td>\n",
              "      <td>...</td>\n",
              "      <td>...</td>\n",
              "      <td>...</td>\n",
              "      <td>...</td>\n",
              "      <td>...</td>\n",
              "      <td>...</td>\n",
              "      <td>...</td>\n",
              "      <td>...</td>\n",
              "      <td>...</td>\n",
              "      <td>...</td>\n",
              "    </tr>\n",
              "    <tr>\n",
              "      <th>144</th>\n",
              "      <td>3.0</td>\n",
              "      <td>19-10-2012</td>\n",
              "      <td>424513.080</td>\n",
              "      <td>0.0</td>\n",
              "      <td>73.440</td>\n",
              "      <td>3.594</td>\n",
              "      <td>226.968844</td>\n",
              "      <td>6.034</td>\n",
              "      <td>2012</td>\n",
              "      <td>10</td>\n",
              "      <td>19</td>\n",
              "      <td>4</td>\n",
              "    </tr>\n",
              "    <tr>\n",
              "      <th>145</th>\n",
              "      <td>14.0</td>\n",
              "      <td>18-06-2010</td>\n",
              "      <td>2248645.590</td>\n",
              "      <td>0.0</td>\n",
              "      <td>72.620</td>\n",
              "      <td>2.780</td>\n",
              "      <td>182.442420</td>\n",
              "      <td>8.899</td>\n",
              "      <td>2010</td>\n",
              "      <td>6</td>\n",
              "      <td>18</td>\n",
              "      <td>4</td>\n",
              "    </tr>\n",
              "    <tr>\n",
              "      <th>147</th>\n",
              "      <td>17.0</td>\n",
              "      <td>11-06-2010</td>\n",
              "      <td>845252.210</td>\n",
              "      <td>0.0</td>\n",
              "      <td>57.140</td>\n",
              "      <td>2.841</td>\n",
              "      <td>126.111903</td>\n",
              "      <td>7.470</td>\n",
              "      <td>2010</td>\n",
              "      <td>11</td>\n",
              "      <td>6</td>\n",
              "      <td>5</td>\n",
              "    </tr>\n",
              "    <tr>\n",
              "      <th>148</th>\n",
              "      <td>8.0</td>\n",
              "      <td>12-08-2011</td>\n",
              "      <td>856796.100</td>\n",
              "      <td>0.0</td>\n",
              "      <td>86.050</td>\n",
              "      <td>3.638</td>\n",
              "      <td>219.007525</td>\n",
              "      <td>7.470</td>\n",
              "      <td>2011</td>\n",
              "      <td>12</td>\n",
              "      <td>8</td>\n",
              "      <td>3</td>\n",
              "    </tr>\n",
              "    <tr>\n",
              "      <th>149</th>\n",
              "      <td>19.0</td>\n",
              "      <td>20-04-2012</td>\n",
              "      <td>1255087.260</td>\n",
              "      <td>0.0</td>\n",
              "      <td>55.200</td>\n",
              "      <td>4.170</td>\n",
              "      <td>137.923067</td>\n",
              "      <td>8.150</td>\n",
              "      <td>2012</td>\n",
              "      <td>4</td>\n",
              "      <td>20</td>\n",
              "      <td>4</td>\n",
              "    </tr>\n",
              "  </tbody>\n",
              "</table>\n",
              "<p>132 rows × 12 columns</p>\n",
              "</div>\n",
              "      <button class=\"colab-df-convert\" onclick=\"convertToInteractive('df-d3bca569-5976-4e8a-8a43-4e82db60897d')\"\n",
              "              title=\"Convert this dataframe to an interactive table.\"\n",
              "              style=\"display:none;\">\n",
              "        \n",
              "  <svg xmlns=\"http://www.w3.org/2000/svg\" height=\"24px\"viewBox=\"0 0 24 24\"\n",
              "       width=\"24px\">\n",
              "    <path d=\"M0 0h24v24H0V0z\" fill=\"none\"/>\n",
              "    <path d=\"M18.56 5.44l.94 2.06.94-2.06 2.06-.94-2.06-.94-.94-2.06-.94 2.06-2.06.94zm-11 1L8.5 8.5l.94-2.06 2.06-.94-2.06-.94L8.5 2.5l-.94 2.06-2.06.94zm10 10l.94 2.06.94-2.06 2.06-.94-2.06-.94-.94-2.06-.94 2.06-2.06.94z\"/><path d=\"M17.41 7.96l-1.37-1.37c-.4-.4-.92-.59-1.43-.59-.52 0-1.04.2-1.43.59L10.3 9.45l-7.72 7.72c-.78.78-.78 2.05 0 2.83L4 21.41c.39.39.9.59 1.41.59.51 0 1.02-.2 1.41-.59l7.78-7.78 2.81-2.81c.8-.78.8-2.07 0-2.86zM5.41 20L4 18.59l7.72-7.72 1.47 1.35L5.41 20z\"/>\n",
              "  </svg>\n",
              "      </button>\n",
              "      \n",
              "  <style>\n",
              "    .colab-df-container {\n",
              "      display:flex;\n",
              "      flex-wrap:wrap;\n",
              "      gap: 12px;\n",
              "    }\n",
              "\n",
              "    .colab-df-convert {\n",
              "      background-color: #E8F0FE;\n",
              "      border: none;\n",
              "      border-radius: 50%;\n",
              "      cursor: pointer;\n",
              "      display: none;\n",
              "      fill: #1967D2;\n",
              "      height: 32px;\n",
              "      padding: 0 0 0 0;\n",
              "      width: 32px;\n",
              "    }\n",
              "\n",
              "    .colab-df-convert:hover {\n",
              "      background-color: #E2EBFA;\n",
              "      box-shadow: 0px 1px 2px rgba(60, 64, 67, 0.3), 0px 1px 3px 1px rgba(60, 64, 67, 0.15);\n",
              "      fill: #174EA6;\n",
              "    }\n",
              "\n",
              "    [theme=dark] .colab-df-convert {\n",
              "      background-color: #3B4455;\n",
              "      fill: #D2E3FC;\n",
              "    }\n",
              "\n",
              "    [theme=dark] .colab-df-convert:hover {\n",
              "      background-color: #434B5C;\n",
              "      box-shadow: 0px 1px 3px 1px rgba(0, 0, 0, 0.15);\n",
              "      filter: drop-shadow(0px 1px 2px rgba(0, 0, 0, 0.3));\n",
              "      fill: #FFFFFF;\n",
              "    }\n",
              "  </style>\n",
              "\n",
              "      <script>\n",
              "        const buttonEl =\n",
              "          document.querySelector('#df-d3bca569-5976-4e8a-8a43-4e82db60897d button.colab-df-convert');\n",
              "        buttonEl.style.display =\n",
              "          google.colab.kernel.accessAllowed ? 'block' : 'none';\n",
              "\n",
              "        async function convertToInteractive(key) {\n",
              "          const element = document.querySelector('#df-d3bca569-5976-4e8a-8a43-4e82db60897d');\n",
              "          const dataTable =\n",
              "            await google.colab.kernel.invokeFunction('convertToInteractive',\n",
              "                                                     [key], {});\n",
              "          if (!dataTable) return;\n",
              "\n",
              "          const docLinkHtml = 'Like what you see? Visit the ' +\n",
              "            '<a target=\"_blank\" href=https://colab.research.google.com/notebooks/data_table.ipynb>data table notebook</a>'\n",
              "            + ' to learn more about interactive tables.';\n",
              "          element.innerHTML = '';\n",
              "          dataTable['output_type'] = 'display_data';\n",
              "          await google.colab.output.renderOutput(dataTable, element);\n",
              "          const docLink = document.createElement('div');\n",
              "          docLink.innerHTML = docLinkHtml;\n",
              "          element.appendChild(docLink);\n",
              "        }\n",
              "      </script>\n",
              "    </div>\n",
              "  </div>\n",
              "  "
            ]
          },
          "metadata": {},
          "execution_count": 230
        }
      ]
    },
    {
      "cell_type": "code",
      "source": [
        "# Codification de la variable Store\n",
        "dummies  = pd.get_dummies(data=df, columns=['Store'])\n",
        "dummies = dummies.drop(['Date', 'Weekly_Sales', 'Holiday_Flag', 'Temperature', 'Fuel_Price','CPI', 'Unemployment','year','month','day','dayofweek'], axis = 1)\n",
        "dummies.info()"
      ],
      "metadata": {
        "id": "M9imAVZjvGwB",
        "colab": {
          "base_uri": "https://localhost:8080/"
        },
        "outputId": "02f17b9c-3ae6-4079-ff3f-63ed004eb838"
      },
      "execution_count": 231,
      "outputs": [
        {
          "output_type": "stream",
          "name": "stdout",
          "text": [
            "<class 'pandas.core.frame.DataFrame'>\n",
            "Int64Index: 132 entries, 0 to 149\n",
            "Data columns (total 20 columns):\n",
            " #   Column      Non-Null Count  Dtype\n",
            "---  ------      --------------  -----\n",
            " 0   Store_1.0   132 non-null    uint8\n",
            " 1   Store_2.0   132 non-null    uint8\n",
            " 2   Store_3.0   132 non-null    uint8\n",
            " 3   Store_4.0   132 non-null    uint8\n",
            " 4   Store_5.0   132 non-null    uint8\n",
            " 5   Store_6.0   132 non-null    uint8\n",
            " 6   Store_7.0   132 non-null    uint8\n",
            " 7   Store_8.0   132 non-null    uint8\n",
            " 8   Store_9.0   132 non-null    uint8\n",
            " 9   Store_10.0  132 non-null    uint8\n",
            " 10  Store_11.0  132 non-null    uint8\n",
            " 11  Store_12.0  132 non-null    uint8\n",
            " 12  Store_13.0  132 non-null    uint8\n",
            " 13  Store_14.0  132 non-null    uint8\n",
            " 14  Store_15.0  132 non-null    uint8\n",
            " 15  Store_16.0  132 non-null    uint8\n",
            " 16  Store_17.0  132 non-null    uint8\n",
            " 17  Store_18.0  132 non-null    uint8\n",
            " 18  Store_19.0  132 non-null    uint8\n",
            " 19  Store_20.0  132 non-null    uint8\n",
            "dtypes: uint8(20)\n",
            "memory usage: 3.6 KB\n"
          ]
        }
      ]
    },
    {
      "cell_type": "code",
      "source": [
        "# Sélection des variables numériaues\n",
        "X_numerical = df.drop(['Store', 'Date'], axis=1).astype('float64')\n",
        "list_numerical = X_numerical.columns\n",
        "list_numerical"
      ],
      "metadata": {
        "colab": {
          "base_uri": "https://localhost:8080/"
        },
        "id": "gmqCwwDOzex6",
        "outputId": "e0dc3a74-5f0c-495e-f12c-f913fdb1e4b0"
      },
      "execution_count": 233,
      "outputs": [
        {
          "output_type": "execute_result",
          "data": {
            "text/plain": [
              "Index(['Weekly_Sales', 'Holiday_Flag', 'Temperature', 'Fuel_Price', 'CPI',\n",
              "       'Unemployment', 'year', 'month', 'day', 'dayofweek'],\n",
              "      dtype='object')"
            ]
          },
          "metadata": {},
          "execution_count": 233
        }
      ]
    },
    {
      "cell_type": "code",
      "source": [
        "# Définir y\n",
        "y = df['Weekly_Sales']"
      ],
      "metadata": {
        "id": "80KufpnsvVZx"
      },
      "execution_count": 234,
      "outputs": []
    },
    {
      "cell_type": "code",
      "source": [
        "# Définir X\n",
        "X = df.drop(['Weekly_Sales','Date',], axis= 1)\n",
        "X.info()"
      ],
      "metadata": {
        "colab": {
          "base_uri": "https://localhost:8080/"
        },
        "id": "ew19dCpylAVh",
        "outputId": "236436fe-0e93-4bf7-8492-7a537681ea31"
      },
      "execution_count": 184,
      "outputs": [
        {
          "output_type": "stream",
          "name": "stdout",
          "text": [
            "<class 'pandas.core.frame.DataFrame'>\n",
            "Int64Index: 132 entries, 0 to 149\n",
            "Data columns (total 10 columns):\n",
            " #   Column        Non-Null Count  Dtype  \n",
            "---  ------        --------------  -----  \n",
            " 0   Store         132 non-null    float64\n",
            " 1   Holiday_Flag  132 non-null    float64\n",
            " 2   Temperature   132 non-null    float64\n",
            " 3   Fuel_Price    132 non-null    float64\n",
            " 4   CPI           132 non-null    float64\n",
            " 5   Unemployment  132 non-null    float64\n",
            " 6   year          132 non-null    int64  \n",
            " 7   month         132 non-null    int64  \n",
            " 8   day           132 non-null    int64  \n",
            " 9   dayofweek     132 non-null    int64  \n",
            "dtypes: float64(6), int64(4)\n",
            "memory usage: 11.3 KB\n"
          ]
        }
      ]
    },
    {
      "cell_type": "code",
      "source": [
        "# Regrouper toutes les variables\n",
        "X = pd.concat([X_numerical, dummies[['Store_1.0', 'Store_2.0', 'Store_3.0', 'Store_4.0', 'Store_5.0',\n",
        "       'Store_6.0', 'Store_7.0', 'Store_8.0', 'Store_9.0', 'Store_10.0',\n",
        "       'Store_11.0', 'Store_12.0', 'Store_13.0', 'Store_14.0', 'Store_15.0',\n",
        "       'Store_16.0', 'Store_17.0', 'Store_18.0', 'Store_19.0', 'Store_20.0']]], axis=1)\n",
        "X.info()"
      ],
      "metadata": {
        "colab": {
          "base_uri": "https://localhost:8080/"
        },
        "id": "QOJhaoqwx1uE",
        "outputId": "80f40348-ef90-4306-cc94-0cdacb53f269"
      },
      "execution_count": 236,
      "outputs": [
        {
          "output_type": "stream",
          "name": "stdout",
          "text": [
            "<class 'pandas.core.frame.DataFrame'>\n",
            "Int64Index: 132 entries, 0 to 149\n",
            "Data columns (total 30 columns):\n",
            " #   Column        Non-Null Count  Dtype  \n",
            "---  ------        --------------  -----  \n",
            " 0   Weekly_Sales  132 non-null    float64\n",
            " 1   Holiday_Flag  132 non-null    float64\n",
            " 2   Temperature   132 non-null    float64\n",
            " 3   Fuel_Price    132 non-null    float64\n",
            " 4   CPI           132 non-null    float64\n",
            " 5   Unemployment  132 non-null    float64\n",
            " 6   year          132 non-null    float64\n",
            " 7   month         132 non-null    float64\n",
            " 8   day           132 non-null    float64\n",
            " 9   dayofweek     132 non-null    float64\n",
            " 10  Store_1.0     132 non-null    uint8  \n",
            " 11  Store_2.0     132 non-null    uint8  \n",
            " 12  Store_3.0     132 non-null    uint8  \n",
            " 13  Store_4.0     132 non-null    uint8  \n",
            " 14  Store_5.0     132 non-null    uint8  \n",
            " 15  Store_6.0     132 non-null    uint8  \n",
            " 16  Store_7.0     132 non-null    uint8  \n",
            " 17  Store_8.0     132 non-null    uint8  \n",
            " 18  Store_9.0     132 non-null    uint8  \n",
            " 19  Store_10.0    132 non-null    uint8  \n",
            " 20  Store_11.0    132 non-null    uint8  \n",
            " 21  Store_12.0    132 non-null    uint8  \n",
            " 22  Store_13.0    132 non-null    uint8  \n",
            " 23  Store_14.0    132 non-null    uint8  \n",
            " 24  Store_15.0    132 non-null    uint8  \n",
            " 25  Store_16.0    132 non-null    uint8  \n",
            " 26  Store_17.0    132 non-null    uint8  \n",
            " 27  Store_18.0    132 non-null    uint8  \n",
            " 28  Store_19.0    132 non-null    uint8  \n",
            " 29  Store_20.0    132 non-null    uint8  \n",
            "dtypes: float64(10), uint8(20)\n",
            "memory usage: 13.9 KB\n"
          ]
        }
      ]
    },
    {
      "cell_type": "code",
      "source": [
        "# Diviser le dataset en X_train, X_test, y_train, y_test \n",
        "X_train, X_test, y_train, y_test = train_test_split(X, y, test_size=0.3, random_state=10)"
      ],
      "metadata": {
        "id": "Gsn4woCbudA4"
      },
      "execution_count": 237,
      "outputs": []
    },
    {
      "cell_type": "code",
      "source": [
        "# Standariser les variables numériques\n",
        "\n",
        "from sklearn.preprocessing import StandardScaler\n",
        "scaler = StandardScaler().fit(X_train[list_numerical]) \n",
        "X_train[list_numerical] = scaler.transform(X_train[list_numerical])\n",
        "X_test[list_numerical] = scaler.transform(X_test[list_numerical])"
      ],
      "metadata": {
        "id": "2vy7p2oQyHYz"
      },
      "execution_count": 238,
      "outputs": []
    },
    {
      "cell_type": "markdown",
      "source": [
        "# Modélisation"
      ],
      "metadata": {
        "id": "Fd7Kn4ZO0VcX"
      }
    },
    {
      "cell_type": "code",
      "source": [
        "# Tableau des 3 modèles utilisés LinearRegression, Ridge, Lasso\n",
        "\n",
        "result = compare_models(\n",
        "    list_of_models = [linear_model.Ridge(alpha=0.09),LinearRegression(),Lasso()],\n",
        "    X_train = X_train,\n",
        "    X_test = X_test,\n",
        "    y_train = y_train,\n",
        "    y_test = y_test,\n",
        "    list_of_metrics = [mean_absolute_error, r2_score, mean_squared_error]\n",
        ")"
      ],
      "metadata": {
        "id": "3Z25JOM4jvLq"
      },
      "execution_count": 239,
      "outputs": []
    },
    {
      "cell_type": "code",
      "source": [
        "result.T"
      ],
      "metadata": {
        "colab": {
          "base_uri": "https://localhost:8080/",
          "height": 237
        },
        "id": "PAcuNkXhj7WW",
        "outputId": "8f0940b3-2100-42b9-c2fe-a7edbaec8059"
      },
      "execution_count": 240,
      "outputs": [
        {
          "output_type": "execute_result",
          "data": {
            "text/plain": [
              "                                 Ridge  LinearRegression  Lasso\n",
              "TRAIN_mean_absolute_error     1081.889               0.0  0.852\n",
              "TRAIN_r2_score                   1.000               1.0  1.000\n",
              "TRAIN_mean_squared_error   2247179.863               0.0  1.000\n",
              "TEST_mean_absolute_error      1461.367               0.0  0.895\n",
              "TEST_r2_score                    1.000               1.0  1.000\n",
              "TEST_mean_squared_error    3379309.634               0.0  1.136"
            ],
            "text/html": [
              "\n",
              "  <div id=\"df-b82cfe6b-26cb-4503-9cf5-8af19c7eff71\">\n",
              "    <div class=\"colab-df-container\">\n",
              "      <div>\n",
              "<style scoped>\n",
              "    .dataframe tbody tr th:only-of-type {\n",
              "        vertical-align: middle;\n",
              "    }\n",
              "\n",
              "    .dataframe tbody tr th {\n",
              "        vertical-align: top;\n",
              "    }\n",
              "\n",
              "    .dataframe thead th {\n",
              "        text-align: right;\n",
              "    }\n",
              "</style>\n",
              "<table border=\"1\" class=\"dataframe\">\n",
              "  <thead>\n",
              "    <tr style=\"text-align: right;\">\n",
              "      <th></th>\n",
              "      <th>Ridge</th>\n",
              "      <th>LinearRegression</th>\n",
              "      <th>Lasso</th>\n",
              "    </tr>\n",
              "  </thead>\n",
              "  <tbody>\n",
              "    <tr>\n",
              "      <th>TRAIN_mean_absolute_error</th>\n",
              "      <td>1081.889</td>\n",
              "      <td>0.0</td>\n",
              "      <td>0.852</td>\n",
              "    </tr>\n",
              "    <tr>\n",
              "      <th>TRAIN_r2_score</th>\n",
              "      <td>1.000</td>\n",
              "      <td>1.0</td>\n",
              "      <td>1.000</td>\n",
              "    </tr>\n",
              "    <tr>\n",
              "      <th>TRAIN_mean_squared_error</th>\n",
              "      <td>2247179.863</td>\n",
              "      <td>0.0</td>\n",
              "      <td>1.000</td>\n",
              "    </tr>\n",
              "    <tr>\n",
              "      <th>TEST_mean_absolute_error</th>\n",
              "      <td>1461.367</td>\n",
              "      <td>0.0</td>\n",
              "      <td>0.895</td>\n",
              "    </tr>\n",
              "    <tr>\n",
              "      <th>TEST_r2_score</th>\n",
              "      <td>1.000</td>\n",
              "      <td>1.0</td>\n",
              "      <td>1.000</td>\n",
              "    </tr>\n",
              "    <tr>\n",
              "      <th>TEST_mean_squared_error</th>\n",
              "      <td>3379309.634</td>\n",
              "      <td>0.0</td>\n",
              "      <td>1.136</td>\n",
              "    </tr>\n",
              "  </tbody>\n",
              "</table>\n",
              "</div>\n",
              "      <button class=\"colab-df-convert\" onclick=\"convertToInteractive('df-b82cfe6b-26cb-4503-9cf5-8af19c7eff71')\"\n",
              "              title=\"Convert this dataframe to an interactive table.\"\n",
              "              style=\"display:none;\">\n",
              "        \n",
              "  <svg xmlns=\"http://www.w3.org/2000/svg\" height=\"24px\"viewBox=\"0 0 24 24\"\n",
              "       width=\"24px\">\n",
              "    <path d=\"M0 0h24v24H0V0z\" fill=\"none\"/>\n",
              "    <path d=\"M18.56 5.44l.94 2.06.94-2.06 2.06-.94-2.06-.94-.94-2.06-.94 2.06-2.06.94zm-11 1L8.5 8.5l.94-2.06 2.06-.94-2.06-.94L8.5 2.5l-.94 2.06-2.06.94zm10 10l.94 2.06.94-2.06 2.06-.94-2.06-.94-.94-2.06-.94 2.06-2.06.94z\"/><path d=\"M17.41 7.96l-1.37-1.37c-.4-.4-.92-.59-1.43-.59-.52 0-1.04.2-1.43.59L10.3 9.45l-7.72 7.72c-.78.78-.78 2.05 0 2.83L4 21.41c.39.39.9.59 1.41.59.51 0 1.02-.2 1.41-.59l7.78-7.78 2.81-2.81c.8-.78.8-2.07 0-2.86zM5.41 20L4 18.59l7.72-7.72 1.47 1.35L5.41 20z\"/>\n",
              "  </svg>\n",
              "      </button>\n",
              "      \n",
              "  <style>\n",
              "    .colab-df-container {\n",
              "      display:flex;\n",
              "      flex-wrap:wrap;\n",
              "      gap: 12px;\n",
              "    }\n",
              "\n",
              "    .colab-df-convert {\n",
              "      background-color: #E8F0FE;\n",
              "      border: none;\n",
              "      border-radius: 50%;\n",
              "      cursor: pointer;\n",
              "      display: none;\n",
              "      fill: #1967D2;\n",
              "      height: 32px;\n",
              "      padding: 0 0 0 0;\n",
              "      width: 32px;\n",
              "    }\n",
              "\n",
              "    .colab-df-convert:hover {\n",
              "      background-color: #E2EBFA;\n",
              "      box-shadow: 0px 1px 2px rgba(60, 64, 67, 0.3), 0px 1px 3px 1px rgba(60, 64, 67, 0.15);\n",
              "      fill: #174EA6;\n",
              "    }\n",
              "\n",
              "    [theme=dark] .colab-df-convert {\n",
              "      background-color: #3B4455;\n",
              "      fill: #D2E3FC;\n",
              "    }\n",
              "\n",
              "    [theme=dark] .colab-df-convert:hover {\n",
              "      background-color: #434B5C;\n",
              "      box-shadow: 0px 1px 3px 1px rgba(0, 0, 0, 0.15);\n",
              "      filter: drop-shadow(0px 1px 2px rgba(0, 0, 0, 0.3));\n",
              "      fill: #FFFFFF;\n",
              "    }\n",
              "  </style>\n",
              "\n",
              "      <script>\n",
              "        const buttonEl =\n",
              "          document.querySelector('#df-b82cfe6b-26cb-4503-9cf5-8af19c7eff71 button.colab-df-convert');\n",
              "        buttonEl.style.display =\n",
              "          google.colab.kernel.accessAllowed ? 'block' : 'none';\n",
              "\n",
              "        async function convertToInteractive(key) {\n",
              "          const element = document.querySelector('#df-b82cfe6b-26cb-4503-9cf5-8af19c7eff71');\n",
              "          const dataTable =\n",
              "            await google.colab.kernel.invokeFunction('convertToInteractive',\n",
              "                                                     [key], {});\n",
              "          if (!dataTable) return;\n",
              "\n",
              "          const docLinkHtml = 'Like what you see? Visit the ' +\n",
              "            '<a target=\"_blank\" href=https://colab.research.google.com/notebooks/data_table.ipynb>data table notebook</a>'\n",
              "            + ' to learn more about interactive tables.';\n",
              "          element.innerHTML = '';\n",
              "          dataTable['output_type'] = 'display_data';\n",
              "          await google.colab.output.renderOutput(dataTable, element);\n",
              "          const docLink = document.createElement('div');\n",
              "          docLink.innerHTML = docLinkHtml;\n",
              "          element.appendChild(docLink);\n",
              "        }\n",
              "      </script>\n",
              "    </div>\n",
              "  </div>\n",
              "  "
            ]
          },
          "metadata": {},
          "execution_count": 240
        }
      ]
    },
    {
      "cell_type": "code",
      "source": [
        "def train_and_evaluate(model, X_train, X_test, y_train, y_test, list_of_metrics):\n",
        "  # entrainement du modele\n",
        "  model.fit(X_train, y_train)\n",
        "\n",
        "  # le dictionnaire qui va contenir les scores\n",
        "  dict_of_scores = {}\n",
        "\n",
        "  # evaluate model on Train_set on all metrics\n",
        "\n",
        "  y_pred = model.predict(X_train)\n",
        "  for metric in list_of_metrics:\n",
        "    dict_of_scores[f'TRAIN_{metric.__name__}'] = np.round(metric(y_train, y_pred), 3)\n",
        "\n",
        "\n",
        "  # evaluate model on Test_set on all metrics\n",
        "  y_pred = model.predict(X_test)\n",
        "  for metric in list_of_metrics:\n",
        "    dict_of_scores[f'TEST_{metric.__name__}'] = np.round(metric(y_test, y_pred), 3)\n",
        "\n",
        "\n",
        "  return pd.Series(dict_of_scores)\n"
      ],
      "metadata": {
        "id": "MHvWvvWZIIjE"
      },
      "execution_count": 60,
      "outputs": []
    },
    {
      "cell_type": "code",
      "source": [
        "def compare_models(list_of_models, X_train, X_test, y_train, y_test, list_of_metrics):\n",
        "  list_of_scores = []\n",
        "  for model in list_of_models:\n",
        "    scores = train_and_evaluate(model, X_train, X_test, y_train, y_test, list_of_metrics)\n",
        "    scores.name = model.__class__.__name__\n",
        "    list_of_scores.append(scores)\n",
        "\n",
        "  df = pd.concat(list_of_scores, axis=1)\n",
        "  df = df.T\n",
        "  df = df.sort_values(by='TEST_r2_score', ascending=False)\n",
        "  return df\n"
      ],
      "metadata": {
        "id": "MYXqJbPvIMo_"
      },
      "execution_count": 61,
      "outputs": []
    },
    {
      "cell_type": "markdown",
      "source": [
        "# Validation LEARNING CURVE"
      ],
      "metadata": {
        "id": "trb7AeyT0y2L"
      }
    },
    {
      "cell_type": "code",
      "source": [
        "training_sizes, training_scores, validation_scores = learning_curve(\n",
        "    estimator = LinearRegression(),\n",
        "    X = X_train,\n",
        "    y = y_train,\n",
        "    train_sizes = np.linspace(5, len(X_train) * 0.8, dtype = int), \n",
        "    cv = 5\n",
        ")\n",
        "line1, line2 = plt.plot(\n",
        "    training_sizes, training_scores.mean(axis = 1), 'g', \n",
        "    training_sizes, validation_scores.mean(axis = 1), 'r');"
      ],
      "metadata": {
        "colab": {
          "base_uri": "https://localhost:8080/",
          "height": 265
        },
        "id": "oCXobvXwlcES",
        "outputId": "d9d9afa8-aa3c-49ab-ffb1-5b2c32c00bae"
      },
      "execution_count": 64,
      "outputs": [
        {
          "output_type": "display_data",
          "data": {
            "text/plain": [
              "<Figure size 432x288 with 1 Axes>"
            ],
            "image/png": "[encoded data removed]"
          },
          "metadata": {
            "needs_background": "light"
          }
        }
      ]
    },
    {
      "cell_type": "code",
      "source": [
        "training_sizes, training_scores, validation_scores = learning_curve(\n",
        "    estimator = linear_model.Ridge(alpha=0.09),\n",
        "    X = X_train,\n",
        "    y = y_train,\n",
        "    train_sizes = np.linspace(5, len(X_train) * 0.8, dtype = int), \n",
        "    cv = 5\n",
        ")\n",
        "line1, line2 = plt.plot(\n",
        "    training_sizes, training_scores.mean(axis = 1), 'g', \n",
        "    training_sizes, validation_scores.mean(axis = 1), 'r')"
      ],
      "metadata": {
        "colab": {
          "base_uri": "https://localhost:8080/",
          "height": 265
        },
        "id": "m_YZsphTm5er",
        "outputId": "e59305dc-3a36-41c3-86c6-cfcd36e1a665"
      },
      "execution_count": 65,
      "outputs": [
        {
          "output_type": "display_data",
          "data": {
            "text/plain": [
              "<Figure size 432x288 with 1 Axes>"
            ],
            "image/png": "[encoded data removed]"
          },
          "metadata": {
            "needs_background": "light"
          }
        }
      ]
    },
    {
      "cell_type": "code",
      "source": [
        "def scatter(dataset, column):\n",
        "    plt.figure()\n",
        "    plt.scatter(dataset[column] , dataset['Weekly_Sales'])\n",
        "    plt.ylabel('Weekly_Sales')\n",
        "    plt.xlabel(column)"
      ],
      "metadata": {
        "id": "JssT8EFEnuzI"
      },
      "execution_count": 208,
      "outputs": []
    },
    {
      "cell_type": "code",
      "source": [
        ""
      ],
      "metadata": {
        "id": "DPZzBAyox5d2"
      },
      "execution_count": null,
      "outputs": []
    }
  ]
}